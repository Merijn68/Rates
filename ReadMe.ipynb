{
 "cells": [
  {
   "cell_type": "markdown",
   "metadata": {},
   "source": [
    "# RatesDashboard\n",
    "\n",
    "RatesDashboard is a Python Demo App showing a use case of Jupyter Dash for visualizing daily market data and managing exceptions.\n",
    "\n",
    "\n",
    "## Installation\n",
    "\n",
    "RatesDashboard is written in Jupyter Dash.Files should be installed in the main project directory.\n",
    "Assets need to be installed. The data directory should at least should contain the rates_data.csv dataset and exceptions.xlsx. You need read/write access to the exceptions.xlsx file where the application stores the suppressed exceptions.\n",
    "\n",
    "This project uses [JupyterDash](https://medium.com/plotly/introducing-jupyterdash-811f1f57c02e). \n",
    "\n",
    "To install JupyterDash:\n",
    "- conda install -c conda-forge -c plotly jupyter-dash\n",
    "\n",
    "## Technologies\n",
    "\n",
    "- Python 3.8.3\n",
    "- Jupyter Notebooks 6.0.3\n",
    "- JupiterDash 0.3.1\n",
    "\n",
    "## Usage\n",
    "\n",
    "Data used for this project is real life data coming from the banks back office system. As unfortunatly the Market Data is not freely available - market data has been altered on purpose to be distributed with this application.\n",
    "\n",
    "    RatesDashboard is the main notebook. This contains the code to clean, calcuate and present the results\n",
    "    CurrencyGroup - is a small python routine to maintain the currency grouping stored in the data folder\n",
    "    YieldGroup - is a small python routine to maintain the yield grouping stored in the data folder\n",
    "    LoadDataFromTreasurySystem - This code was used to load the data from the backofficeSystem\n",
    "    DataManipulation - this file shows the code that was used to change the market data for distribution\n",
    "\n",
    "\n",
    "\n",
    "## License\n",
    "[MIT](https://choosealicense.com/licenses/mit/)"
   ]
  }
 ],
 "metadata": {
  "kernelspec": {
   "display_name": "Python 3",
   "language": "python",
   "name": "python3"
  },
  "language_info": {
   "codemirror_mode": {
    "name": "ipython",
    "version": 3
   },
   "file_extension": ".py",
   "mimetype": "text/x-python",
   "name": "python",
   "nbconvert_exporter": "python",
   "pygments_lexer": "ipython3",
   "version": "3.8.3"
  }
 },
 "nbformat": 4,
 "nbformat_minor": 4
}
