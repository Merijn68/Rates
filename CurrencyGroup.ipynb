{
 "cells": [
  {
   "cell_type": "markdown",
   "metadata": {},
   "source": [
    "# Rates\n",
    "\n",
    "## Onderhoudsfunctie\n",
    "\n",
    "Lees data in en voeg een groepering toe van rate names naar 'currency group'.\n",
    "\n",
    "Het inlezen en groeperen van de data moet een aparte routine worden"
   ]
  },
  {
   "cell_type": "code",
   "execution_count": 1,
   "metadata": {},
   "outputs": [],
   "source": [
    "import pandas as pd\n",
    "import json"
   ]
  },
  {
   "cell_type": "code",
   "execution_count": 2,
   "metadata": {},
   "outputs": [],
   "source": [
    "date_cols = [\"rate_dt\",\"input_dt\",\"actual_dt\",'start_term_dt','maturity_term_dt']\n",
    "keys = ['curve_type','rate_name','rate_type','ccy','time_band']\n",
    "\n",
    "df = pd.read_csv(r'data\\rates_data.csv', \n",
    "                 parse_dates = date_cols, \n",
    "                 dtype ={\"int_basis\":'S10', \"exchange_name\": 'S10'})"
   ]
  },
  {
   "cell_type": "code",
   "execution_count": 3,
   "metadata": {},
   "outputs": [],
   "source": [
    "# Selectie van range van de laatste 20 dagen\n",
    "N = 20\n",
    "\n",
    "df_nd = df[df.rate_dt >= df['rate_dt'].unique()[-N]].copy()\n",
    "\n",
    "# Toevoegen van gemiddelde en standaard afwijking - daarna berekenen van z-score\n",
    "\n",
    "df_gr = df_nd.groupby(keys).agg( {'mid' : ['mean', 'std']}) \n",
    "df_gr = df_gr.reset_index()"
   ]
  },
  {
   "cell_type": "code",
   "execution_count": 4,
   "metadata": {},
   "outputs": [
    {
     "data": {
      "text/html": [
       "<div>\n",
       "<style scoped>\n",
       "    .dataframe tbody tr th:only-of-type {\n",
       "        vertical-align: middle;\n",
       "    }\n",
       "\n",
       "    .dataframe tbody tr th {\n",
       "        vertical-align: top;\n",
       "    }\n",
       "\n",
       "    .dataframe thead tr th {\n",
       "        text-align: left;\n",
       "    }\n",
       "</style>\n",
       "<table border=\"1\" class=\"dataframe\">\n",
       "  <thead>\n",
       "    <tr>\n",
       "      <th></th>\n",
       "      <th>curve_type</th>\n",
       "      <th>rate_name</th>\n",
       "      <th>rate_type</th>\n",
       "      <th>ccy</th>\n",
       "      <th>time_band</th>\n",
       "      <th colspan=\"2\" halign=\"left\">mid</th>\n",
       "    </tr>\n",
       "    <tr>\n",
       "      <th></th>\n",
       "      <th></th>\n",
       "      <th></th>\n",
       "      <th></th>\n",
       "      <th></th>\n",
       "      <th></th>\n",
       "      <th>mean</th>\n",
       "      <th>std</th>\n",
       "    </tr>\n",
       "  </thead>\n",
       "  <tbody>\n",
       "    <tr>\n",
       "      <th>0</th>\n",
       "      <td>Capital Pr</td>\n",
       "      <td>AT0000A001X2</td>\n",
       "      <td>End of Day</td>\n",
       "      <td>EUR</td>\n",
       "      <td>ACTUAL</td>\n",
       "      <td>103.09002</td>\n",
       "      <td>0.105877</td>\n",
       "    </tr>\n",
       "    <tr>\n",
       "      <th>1</th>\n",
       "      <td>Capital Pr</td>\n",
       "      <td>AT0000A0U3T4</td>\n",
       "      <td>End of Day</td>\n",
       "      <td>EUR</td>\n",
       "      <td>ACTUAL</td>\n",
       "      <td>107.98326</td>\n",
       "      <td>0.114234</td>\n",
       "    </tr>\n",
       "    <tr>\n",
       "      <th>2</th>\n",
       "      <td>Capital Pr</td>\n",
       "      <td>AT0000A105W3</td>\n",
       "      <td>End of Day</td>\n",
       "      <td>EUR</td>\n",
       "      <td>ACTUAL</td>\n",
       "      <td>107.06419</td>\n",
       "      <td>0.103418</td>\n",
       "    </tr>\n",
       "    <tr>\n",
       "      <th>3</th>\n",
       "      <td>Capital Pr</td>\n",
       "      <td>AT0000A185T1</td>\n",
       "      <td>End of Day</td>\n",
       "      <td>EUR</td>\n",
       "      <td>ACTUAL</td>\n",
       "      <td>109.22595</td>\n",
       "      <td>0.115914</td>\n",
       "    </tr>\n",
       "    <tr>\n",
       "      <th>4</th>\n",
       "      <td>Capital Pr</td>\n",
       "      <td>AT0000A1FAP5</td>\n",
       "      <td>End of Day</td>\n",
       "      <td>EUR</td>\n",
       "      <td>ACTUAL</td>\n",
       "      <td>109.32499</td>\n",
       "      <td>0.133820</td>\n",
       "    </tr>\n",
       "  </tbody>\n",
       "</table>\n",
       "</div>"
      ],
      "text/plain": [
       "   curve_type     rate_name   rate_type  ccy time_band        mid          \n",
       "                                                             mean       std\n",
       "0  Capital Pr  AT0000A001X2  End of Day  EUR    ACTUAL  103.09002  0.105877\n",
       "1  Capital Pr  AT0000A0U3T4  End of Day  EUR    ACTUAL  107.98326  0.114234\n",
       "2  Capital Pr  AT0000A105W3  End of Day  EUR    ACTUAL  107.06419  0.103418\n",
       "3  Capital Pr  AT0000A185T1  End of Day  EUR    ACTUAL  109.22595  0.115914\n",
       "4  Capital Pr  AT0000A1FAP5  End of Day  EUR    ACTUAL  109.32499  0.133820"
      ]
     },
     "execution_count": 4,
     "metadata": {},
     "output_type": "execute_result"
    }
   ],
   "source": [
    "df_gr.head()"
   ]
  },
  {
   "cell_type": "code",
   "execution_count": 5,
   "metadata": {},
   "outputs": [],
   "source": [
    "def ccy_group (currency):\n",
    "    ''' \n",
    "    Map currencies in A- B- and C-currencies \n",
    "    \n",
    "    input:\n",
    "    currency       - string : 3 digit currency code\n",
    "    \n",
    "    Output:\n",
    "    currency group - string    \n",
    "    '''\n",
    "    \n",
    "    a_ccy = ['EUR','GBP','USD','CHF']\n",
    "    b_ccy = ['NOK','NZD','SEK','CZK']\n",
    "    # All others are c-ccy's\n",
    "    \n",
    "    if any(currency in x for x in a_ccy):\n",
    "        return 'A-currency'\n",
    "    if any(currency in x for x in b_ccy):\n",
    "        return 'B-currency'\n",
    "    else:\n",
    "        return 'C-currency'\n",
    "\n",
    "# Map currencies in currency groups\n",
    "df_gr['ccy_group'] = df_gr['ccy'].map(ccy_group)"
   ]
  },
  {
   "cell_type": "code",
   "execution_count": 6,
   "metadata": {},
   "outputs": [],
   "source": [
    "# Select unique list of ccy's and ccy groups\n",
    "df_ccylist = df_gr[['ccy_group','ccy']].drop_duplicates().copy()\n",
    "df_ccylist.columns = ['ccy_group','ccy']"
   ]
  },
  {
   "cell_type": "code",
   "execution_count": 7,
   "metadata": {},
   "outputs": [],
   "source": [
    "# Write to data\n",
    "file = r'data\\ccy_group.json'\n",
    "r = df_ccylist.to_json(file)"
   ]
  }
 ],
 "metadata": {
  "kernelspec": {
   "display_name": "Python 3",
   "language": "python",
   "name": "python3"
  },
  "language_info": {
   "codemirror_mode": {
    "name": "ipython",
    "version": 3
   },
   "file_extension": ".py",
   "mimetype": "text/x-python",
   "name": "python",
   "nbconvert_exporter": "python",
   "pygments_lexer": "ipython3",
   "version": "3.8.3"
  }
 },
 "nbformat": 4,
 "nbformat_minor": 4
}
