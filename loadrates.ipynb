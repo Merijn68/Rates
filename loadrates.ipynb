{
 "cells": [
  {
   "cell_type": "code",
   "execution_count": 1,
   "metadata": {},
   "outputs": [],
   "source": [
    "import pandas as pd\n"
   ]
  },
  {
   "cell_type": "markdown",
   "metadata": {},
   "source": [
    "Inlezen van de dataset - Conversie van kolommen naar string en date waar nodig"
   ]
  },
  {
   "cell_type": "code",
   "execution_count": 2,
   "metadata": {},
   "outputs": [],
   "source": [
    "def ratesdata():\n",
    "    date_cols = [\"rate_dt\",\"input_dt\",\"actual_dt\",'start_term_dt','maturity_term_dt']\n",
    "    df = pd.read_csv(r'C:\\Users\\merij\\OneDrive\\Documents\\Projects\\temp.csv', parse_dates = date_cols, dtype ={\"int_basis\":'S10', \"exchange_name\": 'S10'})\n",
    "    return df  "
   ]
  }
 ],
 "metadata": {
  "kernelspec": {
   "display_name": "Python 3",
   "language": "python",
   "name": "python3"
  },
  "language_info": {
   "codemirror_mode": {
    "name": "ipython",
    "version": 3
   },
   "file_extension": ".py",
   "mimetype": "text/x-python",
   "name": "python",
   "nbconvert_exporter": "python",
   "pygments_lexer": "ipython3",
   "version": "3.8.3"
  }
 },
 "nbformat": 4,
 "nbformat_minor": 4
}
