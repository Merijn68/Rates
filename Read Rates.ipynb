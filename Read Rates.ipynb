{
 "cells": [
  {
   "cell_type": "code",
   "execution_count": 10,
   "metadata": {},
   "outputs": [],
   "source": [
    "import pyodbc\n",
    "import pandas as pd\n",
    "import matplotlib.pyplot as plt"
   ]
  },
  {
   "cell_type": "code",
   "execution_count": 11,
   "metadata": {},
   "outputs": [],
   "source": [
    "# SQL Authentication\n",
    "conn = pyodbc.connect(\n",
    "    'Driver={SQL Server};'\n",
    "    'Server=vfm-sql-prod.verz.local\\SNS, 1433;'\n",
    "    'Database=vfm;'\n",
    "    'UID=snsconnect;'\n",
    "    'PWD=%Sungard765;')\n",
    "\n",
    "# open connection\n",
    "cursor = conn.cursor()\n",
    " \n",
    "# execute SQL\n",
    "cursor.execute('''\n",
    "select * \n",
    "from [dbo].[snsv_rates_all_r]\n",
    "where rate_dt = '24-nov-2020'\n",
    "               ''') \n",
    "# put the results into an object\n",
    "result = cursor.fetchall()"
   ]
  },
  {
   "cell_type": "code",
   "execution_count": 12,
   "metadata": {},
   "outputs": [],
   "source": [
    "# get the columns for the result\n",
    "cols = [column[0] for column in cursor.description]"
   ]
  },
  {
   "cell_type": "code",
   "execution_count": 14,
   "metadata": {},
   "outputs": [],
   "source": [
    "# iterate over each row and append to list\n",
    "data = []\n",
    "for row in result:\n",
    "    # convert a tuple to a list\n",
    "    rowlist = list(row)\n",
    "    data.append(rowlist)\n",
    "        \n",
    " \n",
    "# create a dataframe\n",
    "df = pd.DataFrame(data, columns = cols)\n",
    "\n",
    "# close connection\n",
    "cursor.close()"
   ]
  },
  {
   "cell_type": "code",
   "execution_count": 15,
   "metadata": {},
   "outputs": [
    {
     "name": "stdout",
     "output_type": "stream",
     "text": [
      "        rate_dt           rate_name  ccy   rate_type   seq_no  curve_type  \\\n",
      "0    2020-11-24  CDS Asia Banking A  USD  End of Day  4698195       Yield   \n",
      "1    2020-11-24  CDS Asia Banking A  USD  End of Day  4698196       Yield   \n",
      "2    2020-11-24  CDS Asia Banking A  USD  End of Day  4698197       Yield   \n",
      "3    2020-11-24  CDS Asia Banking A  USD  End of Day  4698198       Yield   \n",
      "4    2020-11-24  CDS Asia Banking A  USD  End of Day  4698199       Yield   \n",
      "...         ...                 ...  ...         ...      ...         ...   \n",
      "2637 2020-11-24        US912810FM54  USD  End of Day  1105973  Capital Pr   \n",
      "2638 2020-11-24        US912810FJ26  USD  End of Day  1105974  Capital Pr   \n",
      "2639 2020-11-24        US44986NAA37  USD  End of Day  1105975  Capital Pr   \n",
      "2640 2020-11-24        XS0995102778  USD  End of Day  1105976  Capital Pr   \n",
      "2641 2020-11-24        US912828QN35  USD  End of Day  1105977  Capital Pr   \n",
      "\n",
      "       input_dt time_band  days_off  actual_dt  ...  start_term maturity_term  \\\n",
      "0    2020-11-24  6 MONTHS       2.0 2021-05-27  ...         NaN           NaN   \n",
      "1    2020-11-24    1 YEAR       2.0 2021-11-29  ...         NaN           NaN   \n",
      "2    2020-11-24   2 YEARS       2.0 2022-11-28  ...         NaN           NaN   \n",
      "3    2020-11-24   3 YEARS       2.0 2023-11-27  ...         NaN           NaN   \n",
      "4    2020-11-24   4 YEARS       2.0 2024-11-27  ...         NaN           NaN   \n",
      "...         ...       ...       ...        ...  ...         ...           ...   \n",
      "2637 2020-11-24    ACTUAL       NaN        NaT  ...         NaN           NaN   \n",
      "2638 2020-11-24    ACTUAL       NaN        NaT  ...         NaN           NaN   \n",
      "2639 2020-11-24    ACTUAL       NaN        NaT  ...         NaN           NaN   \n",
      "2640 2020-11-24    ACTUAL       NaN        NaT  ...         NaN           NaN   \n",
      "2641 2020-11-24    ACTUAL       NaN        NaT  ...         NaN           NaN   \n",
      "\n",
      "     start_term_dt  maturity_term_dt  start_term_date_days  \\\n",
      "0              NaT               NaT                   NaN   \n",
      "1              NaT               NaT                   NaN   \n",
      "2              NaT               NaT                   NaN   \n",
      "3              NaT               NaT                   NaN   \n",
      "4              NaT               NaT                   NaN   \n",
      "...            ...               ...                   ...   \n",
      "2637           NaT               NaT                   NaN   \n",
      "2638           NaT               NaT                   NaN   \n",
      "2639           NaT               NaT                   NaN   \n",
      "2640           NaT               NaT                   NaN   \n",
      "2641           NaT               NaT                   NaN   \n",
      "\n",
      "     maturity_term_date_days exchange_name     bid   offer     mid  \n",
      "0                        NaN          None   6.120   6.120   6.120  \n",
      "1                        NaN          None   6.470   6.470   6.470  \n",
      "2                        NaN          None  11.920  11.920  11.920  \n",
      "3                        NaN          None  18.890  18.890  18.890  \n",
      "4                        NaN          None  26.380  26.380  26.380  \n",
      "...                      ...           ...     ...     ...     ...  \n",
      "2637                     NaN          None  99.999  99.999  99.999  \n",
      "2638                     NaN          None  99.999  99.999  99.999  \n",
      "2639                     NaN          None  99.999  99.999  99.999  \n",
      "2640                     NaN          None  99.999  99.999  99.999  \n",
      "2641                     NaN          None  99.999  99.999  99.999  \n",
      "\n",
      "[2642 rows x 23 columns]\n"
     ]
    }
   ],
   "source": [
    "# print the dataframe\n",
    "print(df)"
   ]
  },
  {
   "cell_type": "code",
   "execution_count": 16,
   "metadata": {},
   "outputs": [
    {
     "name": "stdout",
     "output_type": "stream",
     "text": [
      "                                 bid    offer\n",
      "curve_type rate_name    ccy                  \n",
      "Capital Pr AT0000A001X2 EUR  103.288  103.288\n",
      "           AT0000A0U3T4 EUR  108.247  108.247\n",
      "           AT0000A105W3 EUR  107.250  107.250\n",
      "           AT0000A185T1 EUR  109.363  109.363\n",
      "           AT0000A1FAP5 EUR  109.412  109.412\n",
      "...                              ...      ...\n",
      "Yield      US912810FT08 USD    1.000    1.000\n",
      "           US9128282R06 USD    1.000    1.000\n",
      "           US912828YF19 USD    1.000    1.000\n",
      "           US912828ZC78 USD    1.000    1.000\n",
      "           US912828ZQ64 USD    1.000    1.000\n",
      "\n",
      "[688 rows x 2 columns]\n"
     ]
    }
   ],
   "source": [
    "print(df[[\"curve_type\",\"rate_name\",\"ccy\",\"bid\",\"offer\"]].groupby([\"curve_type\",\"rate_name\",\"ccy\"]).mean())"
   ]
  },
  {
   "cell_type": "code",
   "execution_count": 17,
   "metadata": {},
   "outputs": [
    {
     "name": "stdout",
     "output_type": "stream",
     "text": [
      "       rate_name  actual_dt time_band    mid\n",
      "1506  Swap 3M BB 2021-11-26    1 YEAR -0.541\n",
      "1507  Swap 3M BB 2022-11-28   2 YEARS -0.547\n",
      "1508  Swap 3M BB 2023-11-27   3 YEARS -0.540\n",
      "1509  Swap 3M BB 2024-11-26   4 YEARS -0.518\n",
      "1510  Swap 3M BB 2025-11-26   5 YEARS -0.487\n",
      "1511  Swap 3M BB 2026-11-26   6 YEARS -0.450\n",
      "1512  Swap 3M BB 2027-11-26   7 YEARS -0.409\n",
      "1513  Swap 3M BB 2028-11-27   8 YEARS -0.364\n",
      "1514  Swap 3M BB 2029-11-26   9 YEARS -0.317\n",
      "1515  Swap 3M BB 2030-11-26  10 YEARS -0.267\n",
      "1516  Swap 3M BB 2031-11-26  11 YEARS -0.218\n",
      "1517  Swap 3M BB 2032-11-26  12 YEARS -0.171\n",
      "1518  Swap 3M BB 2035-11-26  15 YEARS -0.058\n",
      "1519  Swap 3M BB 2040-11-26  20 YEARS  0.033\n",
      "1520  Swap 3M BB 2045-11-27  25 YEARS  0.041\n",
      "1521  Swap 3M BB 2050-11-28  30 YEARS  0.019\n"
     ]
    },
    {
     "data": {
      "text/html": [
       "<div>\n",
       "<style scoped>\n",
       "    .dataframe tbody tr th:only-of-type {\n",
       "        vertical-align: middle;\n",
       "    }\n",
       "\n",
       "    .dataframe tbody tr th {\n",
       "        vertical-align: top;\n",
       "    }\n",
       "\n",
       "    .dataframe thead th {\n",
       "        text-align: right;\n",
       "    }\n",
       "</style>\n",
       "<table border=\"1\" class=\"dataframe\">\n",
       "  <thead>\n",
       "    <tr style=\"text-align: right;\">\n",
       "      <th></th>\n",
       "      <th>mid</th>\n",
       "    </tr>\n",
       "  </thead>\n",
       "  <tbody>\n",
       "    <tr>\n",
       "      <th>count</th>\n",
       "      <td>16.000000</td>\n",
       "    </tr>\n",
       "    <tr>\n",
       "      <th>mean</th>\n",
       "      <td>-0.299625</td>\n",
       "    </tr>\n",
       "    <tr>\n",
       "      <th>std</th>\n",
       "      <td>0.217546</td>\n",
       "    </tr>\n",
       "    <tr>\n",
       "      <th>min</th>\n",
       "      <td>-0.547000</td>\n",
       "    </tr>\n",
       "    <tr>\n",
       "      <th>25%</th>\n",
       "      <td>-0.494750</td>\n",
       "    </tr>\n",
       "    <tr>\n",
       "      <th>50%</th>\n",
       "      <td>-0.340500</td>\n",
       "    </tr>\n",
       "    <tr>\n",
       "      <th>75%</th>\n",
       "      <td>-0.142750</td>\n",
       "    </tr>\n",
       "    <tr>\n",
       "      <th>max</th>\n",
       "      <td>0.041000</td>\n",
       "    </tr>\n",
       "  </tbody>\n",
       "</table>\n",
       "</div>"
      ],
      "text/plain": [
       "             mid\n",
       "count  16.000000\n",
       "mean   -0.299625\n",
       "std     0.217546\n",
       "min    -0.547000\n",
       "25%    -0.494750\n",
       "50%    -0.340500\n",
       "75%    -0.142750\n",
       "max     0.041000"
      ]
     },
     "execution_count": 17,
     "metadata": {},
     "output_type": "execute_result"
    }
   ],
   "source": [
    "yield_curve = df[(df[\"curve_type\"] == 'Yield') & (df[\"ccy\"]=='EUR') & (df[\"rate_name\"] == \"Swap 3M BB\")][['rate_name','actual_dt','time_band','mid']]\n",
    "print(yield_curve)\n",
    "yield_curve.describe()\n"
   ]
  },
  {
   "cell_type": "code",
   "execution_count": 18,
   "metadata": {},
   "outputs": [
    {
     "data": {
      "image/png": "[encoded data removed]",
      "text/plain": [
       "<Figure size 432x288 with 1 Axes>"
      ]
     },
     "metadata": {
      "needs_background": "light"
     },
     "output_type": "display_data"
    }
   ],
   "source": [
    "xAxis = yield_curve['actual_dt']\n",
    "yAxis = yield_curve['mid']\n",
    "\n",
    "plt.plot(xAxis, yAxis, color='red', marker='o')\n",
    "plt.title('Swap 3M BB EUR', fontsize = 14)\n",
    "plt.grid(True)\n",
    "plt.xlabel(xAxis.name)\n",
    "plt.ylabel(yAxis.name)\n",
    "plt.show()\n",
    "\n",
    "\n"
   ]
  },
  {
   "cell_type": "code",
   "execution_count": null,
   "metadata": {},
   "outputs": [],
   "source": []
  }
 ],
 "metadata": {
  "kernelspec": {
   "display_name": "Python 3",
   "language": "python",
   "name": "python3"
  },
  "language_info": {
   "codemirror_mode": {
    "name": "ipython",
    "version": 3
   },
   "file_extension": ".py",
   "mimetype": "text/x-python",
   "name": "python",
   "nbconvert_exporter": "python",
   "pygments_lexer": "ipython3",
   "version": "3.8.3"
  }
 },
 "nbformat": 4,
 "nbformat_minor": 4
}
