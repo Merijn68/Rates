{
 "cells": [
  {
   "cell_type": "markdown",
   "metadata": {},
   "source": [
    "# Rates\n",
    "\n",
    "## Onderhoudsfunctie\n",
    "\n",
    "Lees data in en voeg een groepering toe van rate names naar 'yield group'.\n"
   ]
  },
  {
   "cell_type": "code",
   "execution_count": 1,
   "metadata": {},
   "outputs": [],
   "source": [
    "import pandas as pd\n",
    "import json\n"
   ]
  },
  {
   "cell_type": "code",
   "execution_count": 2,
   "metadata": {},
   "outputs": [],
   "source": [
    "date_cols = [\"rate_dt\",\"input_dt\",\"actual_dt\",'start_term_dt','maturity_term_dt']\n",
    "\n",
    "df = pd.read_csv(r'data\\rates_data.csv', \n",
    "                 parse_dates = date_cols, \n",
    "                 dtype ={\"int_basis\":'S10', \"exchange_name\": 'S10'})"
   ]
  },
  {
   "cell_type": "code",
   "execution_count": 3,
   "metadata": {},
   "outputs": [],
   "source": [
    "# Clusteren van ratenames naar verschillende groepen yield rates\n",
    "\n",
    "def yield_group(ratename):    \n",
    "    '''     \n",
    "    Deze functie vertaald een ratename naar de yield group\n",
    "    \n",
    "    Input:\n",
    "    ratename    - string : Naam van de rate\n",
    "    \n",
    "    Output:\n",
    "    yield_group - string : Naam van de yield group\n",
    "    \n",
    "    '''\n",
    "    \n",
    "    fixing = ['EURIBOR', 'CMS', 'EONIA', 'ESTER', 'LIBOR','FEDOV','JIBAR', 'NIBOR', 'PRIBOR']\n",
    "     \n",
    "    if ratename.startswith('CDS RR'):\n",
    "         return 'Recovery Rate'\n",
    "    elif ratename.startswith('CDS Banks'):\n",
    "         return 'CDS Banks'\n",
    "    elif ratename.startswith('CDS') and 'Government' in ratename:\n",
    "         return 'CDS Government'\n",
    "    elif ratename.startswith('CDS') and 'Government' in ratename:\n",
    "         return 'CDS Government'\n",
    "    elif ratename.startswith('CDS') and 'General' in ratename:\n",
    "         return 'CDS General'\n",
    "    elif ratename.startswith('CDS'):\n",
    "         return 'CDS Specific'        \n",
    "    elif 'Deposit' in ratename:\n",
    "         return 'Deposits'\n",
    "    elif ratename.startswith('GOV Yield'):\n",
    "         return 'Government Yield'\n",
    "    elif ratename.startswith('FRA'):\n",
    "         return 'FRA'\n",
    "    elif ratename in ['Swap 1M FRA','Swap 6M FRA','Swap 12M FRA']:\n",
    "         return 'FRA Points'\n",
    "    elif ratename == 'REPO':\n",
    "         return 'Repo'\n",
    "    elif 'OIS' in ratename:\n",
    "         return 'OIS'\n",
    "    elif 'SOFR' in ratename:\n",
    "         return 'OIS'\n",
    "    elif 'ESTER' in ratename:\n",
    "         return 'OIS'\n",
    "    elif ratename in ['Swap 12M BB', 'Swap 6M BB','Swap 3M BB','Swap 1M BB' , 'Swap 6M MM','Swap 3M MM','Swap 1M MM']:           \n",
    "         return 'Swap Rates (Bond Based)'         \n",
    "    elif 'Inflation' in ratename:\n",
    "         return 'Inflation' \n",
    "    elif any(ratename in x for x in fixing):\n",
    "        return 'Fixing'    \n",
    "    else:\n",
    "        return 'Bond Yield'\n",
    "    \n",
    "# Map yield group from the rate names for yield and point rate types  \n",
    "df['yield_group'] = df.loc[(df['curve_type'].isin(['Yield','Points'])),'rate_name'].map(yield_group)\n"
   ]
  },
  {
   "cell_type": "code",
   "execution_count": 9,
   "metadata": {},
   "outputs": [],
   "source": [
    "# Lijst met unieke voorkomens van ratename en yieldgroup\n",
    "df_list = df[['rate_name','yield_group']].dropna().drop_duplicates()"
   ]
  },
  {
   "cell_type": "code",
   "execution_count": 10,
   "metadata": {},
   "outputs": [],
   "source": [
    "# wegschrijven naar Json\n",
    "file = r'data\\yield_group.json'\n",
    "df_list.to_json(file)"
   ]
  }
 ],
 "metadata": {
  "kernelspec": {
   "display_name": "Python 3",
   "language": "python",
   "name": "python3"
  },
  "language_info": {
   "codemirror_mode": {
    "name": "ipython",
    "version": 3
   },
   "file_extension": ".py",
   "mimetype": "text/x-python",
   "name": "python",
   "nbconvert_exporter": "python",
   "pygments_lexer": "ipython3",
   "version": "3.8.3"
  }
 },
 "nbformat": 4,
 "nbformat_minor": 4
}
