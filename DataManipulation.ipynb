{
 "cells": [
  {
   "cell_type": "markdown",
   "metadata": {},
   "source": [
    "# Data Manipulation\n",
    "\n",
    "De in te lezen data is helaas niet publiek toegankelijk. Om deze data toch voor demo doeleinden te kunnen gebruiken heb ik \n",
    "middels deze routine de data een klein beetje aangepast. Hierbij is er op gelet om de samenhang van de data in de curves en in de tijd te behouden.\n"
   ]
  },
  {
   "cell_type": "code",
   "execution_count": 4,
   "metadata": {},
   "outputs": [],
   "source": [
    "import pandas as pd\n",
    "import numpy as np\n",
    "import datetime\n",
    "from pandas.tseries.offsets import DateOffset           # Gebruikt voor het berekenen van de datum van FRA contracten\n",
    "\n",
    "\n",
    "import random as rd\n",
    "\n",
    "                                  "
   ]
  },
  {
   "cell_type": "code",
   "execution_count": 5,
   "metadata": {},
   "outputs": [],
   "source": [
    "\n",
    "def read_data():\n",
    "    '''\n",
    "    Lees de marktdata in.    \n",
    "    Input: \n",
    "      -        \n",
    "    Output: \n",
    "      Pandas Dataframe    \n",
    "    '''            \n",
    "    try:\n",
    "    \n",
    "        # Datum kolommen\n",
    "        date_cols = [\"rate_dt\",\"input_dt\",\"actual_dt\",'start_term_dt','maturity_term_dt']\n",
    "    \n",
    "        # Omzetten datum kolommen. int_basis en exchange name zijn gewoon string, maar werden niet goed herkend\n",
    "        df = pd.read_csv(r'data\\rates_data_2020.csv', \n",
    "                         parse_dates = date_cols, \n",
    "                         dtype ={\"int_basis\":'S10', \"exchange_name\": 'S10'})\n",
    "\n",
    "        \n",
    "    except Exception as e:\n",
    "            print(\"ERROR: Unable to find or access file:\", e)\n",
    "    \n",
    "    return df\n",
    "\n",
    "# Inlezen data\n",
    "df = read_data()\n"
   ]
  },
  {
   "cell_type": "code",
   "execution_count": 6,
   "metadata": {},
   "outputs": [],
   "source": [
    "# Toevoegen van gemiddelde en standaard afwijking \n",
    "keys = ['curve_type','rate_name','rate_type','ccy','time_band']\n",
    "df_gr = df.groupby(keys).agg( {'mid' : ['mean', 'std'] } ) \n",
    "\n",
    "# hernoemen output kolommen\n",
    "df_gr.columns = ['mean', 'std'] \n",
    "\n",
    "# Group by levert een multi index. Deze wordt hier weer plat geslagen\n",
    "df_gr = df_gr.reset_index() \n",
    "\n",
    "# Berekenen aanpassing per rate\n",
    "\n",
    "df_gr['change'] = round(df_gr['std']*(rd.random()-.5)*.2,5)\n",
    "\n",
    "# Left join de change over alle data\n",
    "dfi = df.merge(df_gr, on = keys, how = \"left\")\n",
    "\n",
    "# Dagelijkse change per key\n",
    "keys = ['rate_dt','curve_type','rate_name','rate_type','ccy']\n",
    "df_grd = df.groupby(keys).agg(  {'mid' : ['mean', 'std'] } ) \n",
    "\n",
    "# hernoemen output kolommen\n",
    "df_grd.columns = ['mean', 'std'] \n",
    "# Group by levert een multi index. Deze wordt hier weer plat geslagen\n",
    "df_grd = df_grd.reset_index() \n",
    "\n",
    "df_grd['std'] = df_grd['std'].fillna(0)\n",
    "\n",
    "df_grd['daily_change'] = round(df_grd['std']*(rd.random()-.5)*.2,5)\n",
    "\n",
    "# Left join de change over alle data\n",
    "dfi = dfi.merge(df_grd, on = keys, how = \"left\")\n",
    "\n"
   ]
  },
  {
   "cell_type": "code",
   "execution_count": 4,
   "metadata": {},
   "outputs": [],
   "source": [
    "\n",
    "# aanpassen van de data\n",
    "dfi['bid'] = dfi['bid']+dfi['change']+dfi['daily_change']\n",
    "dfi['offer'] = dfi['bid']+dfi['change']+dfi['daily_change']\n",
    "dfi['mid'] = dfi['bid']+dfi['change']+dfi['daily_change']\n",
    "\n",
    "\n",
    "# Drop werk kolommen\n",
    "del dfi['daily_change']\n",
    "del dfi['change']\n",
    "del dfi['mean_x']\n",
    "del dfi['mean_y']\n",
    "del dfi['std_x']\n",
    "del dfi['std_y']\n"
   ]
  },
  {
   "cell_type": "code",
   "execution_count": 7,
   "metadata": {},
   "outputs": [],
   "source": [
    "# Drop 31-dec aangezien rates niet representatief zijn\n",
    "\n",
    "dfi = dfi[dfi['rate_dt'] != '31-DEC-2020']\n",
    "\n",
    "dfi = dfi[dfi['rate_dt'] >= '1-DEC-2020'] # Subset data voor distributie\n"
   ]
  },
  {
   "cell_type": "code",
   "execution_count": 8,
   "metadata": {},
   "outputs": [],
   "source": [
    "mask = dfi['curve_type']=='Capital Pr'"
   ]
  },
  {
   "cell_type": "code",
   "execution_count": 9,
   "metadata": {},
   "outputs": [],
   "source": [
    "\n",
    "# Annonimizeer ook nog even de ISIN codes\n",
    "f = []\n",
    "l = dfi[mask]['rate_name'].unique()\n",
    "for value in l:\n",
    "    f.append(value[:2] + str(rd.randint(0, 999999999)))\n",
    "    \n",
    "def anonymize (ratename):\n",
    "               \n",
    "    index = np.where(l==ratename)\n",
    "    name = f[index[0][0]]\n",
    "    \n",
    "    return name"
   ]
  },
  {
   "cell_type": "code",
   "execution_count": 10,
   "metadata": {},
   "outputs": [],
   "source": [
    "\n",
    "dfi.loc[mask,'rate_name'] = dfi.loc[mask].apply(lambda x: anonymize(x['rate_name'])\n",
    "                                                  , axis = 1)"
   ]
  },
  {
   "cell_type": "code",
   "execution_count": 18,
   "metadata": {},
   "outputs": [],
   "source": [
    "# Inlezen hiearchien\n",
    "\n",
    "def add_hiarchy(df, fieldnames):\n",
    "    \"\"\"\n",
    "    Deze functie voegt een dimensie toe die is gedefinieerd in de json data.\n",
    "        \n",
    "    Input: \n",
    "        df -          Pandas Datafame \n",
    "        fieldnames    List of names of hiarchies. \n",
    "                      In de data folder moet een bestand in JSON format staan met deze naam      \n",
    "    Output: \n",
    "      Pandas Dataframe     \n",
    "    \"\"\"    \n",
    "    try:\n",
    "\n",
    "        for name in fieldnames:            \n",
    "            # Lezen van hiarchie-en vanuit JSON\n",
    "            filename = 'data\\\\' + name + \".json\"\n",
    "            df_r = pd.read_json(filename)\n",
    "            df = pd.merge(df,df_r,how = 'left')\n",
    "    \n",
    "                \n",
    "    except Exception as e:\n",
    "        print(\"ERROR: Unable to find or access file:\", e)\n",
    "    \n",
    "    return df\n",
    "\n",
    "hiarchies = ['yield_group']\n",
    "\n",
    "dfi = add_hiarchy(dfi,hiarchies)"
   ]
  },
  {
   "cell_type": "code",
   "execution_count": 22,
   "metadata": {},
   "outputs": [],
   "source": [
    "\n",
    "mask = ((dfi['curve_type']=='Yield' ) & \n",
    "        ( dfi['yield_group'] == 'CDS Specific'))\n",
    "dfi = dfi[~mask]"
   ]
  },
  {
   "cell_type": "code",
   "execution_count": 25,
   "metadata": {},
   "outputs": [],
   "source": [
    "dfi = dfi.drop(columns = ['yield_group'])"
   ]
  },
  {
   "cell_type": "code",
   "execution_count": 26,
   "metadata": {},
   "outputs": [],
   "source": [
    "\n",
    "# Drop 2 maands depo rates in CHF \n",
    "# Dit om te laten zien hoe ik deze uitzonderingen detecteer\n",
    "i = dfi[(dfi['rate_dt'] == dfi['rate_dt'].max()) &\n",
    "             (dfi['rate_name'] == 'Deposit') &\n",
    "             (dfi['ccy'] == 'CHF') &\n",
    "             (dfi['time_band'] == '2 MONTHS')    \n",
    "       ].index\n",
    "\n",
    "dfi.drop(i , inplace=True)\n",
    "\n"
   ]
  },
  {
   "cell_type": "code",
   "execution_count": 27,
   "metadata": {},
   "outputs": [],
   "source": [
    "# Write the changed data to disc\n",
    "dfi.to_csv(r'data\\rates_data.csv',index=False)"
   ]
  }
 ],
 "metadata": {
  "kernelspec": {
   "display_name": "Python 3",
   "language": "python",
   "name": "python3"
  },
  "language_info": {
   "codemirror_mode": {
    "name": "ipython",
    "version": 3
   },
   "file_extension": ".py",
   "mimetype": "text/x-python",
   "name": "python",
   "nbconvert_exporter": "python",
   "pygments_lexer": "ipython3",
   "version": "3.8.3"
  }
 },
 "nbformat": 4,
 "nbformat_minor": 4
}
