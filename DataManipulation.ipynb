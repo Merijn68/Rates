{
 "cells": [
  {
   "cell_type": "markdown",
   "metadata": {},
   "source": [
    "# Data Manipulation\n",
    "\n",
    "De in te lezen data is helaas niet publiek toegankelijk. Om deze data toch voor demo doeleinden te kunnen gebruiken heb ik \n",
    "middels deze routine de data een klein beetje aangepast. Hierbij is er op gelet om de samenhang van de data in de curves en in de tijd te behouden.\n"
   ]
  },
  {
   "cell_type": "code",
   "execution_count": 4,
   "metadata": {},
   "outputs": [],
   "source": [
    "import pandas as pd\n",
    "import numpy as np\n",
    "import datetime\n",
    "from pandas.tseries.offsets import DateOffset           # Gebruikt voor het berekenen van de datum van FRA contracten\n",
    "\n",
    "import random as rd                                        "
   ]
  },
  {
   "cell_type": "code",
   "execution_count": 5,
   "metadata": {},
   "outputs": [],
   "source": [
    "\n",
    "def read_data():\n",
    "    '''\n",
    "    Lees de marktdata in.    \n",
    "    Input: \n",
    "      -        \n",
    "    Output: \n",
    "      Pandas Dataframe    \n",
    "    '''            \n",
    "    try:\n",
    "    \n",
    "        # Datum kolommen\n",
    "        date_cols = [\"rate_dt\",\"input_dt\",\"actual_dt\",'start_term_dt','maturity_term_dt']\n",
    "    \n",
    "        # Omzetten datum kolommen. int_basis en exchange name zijn gewoon string, maar werden niet goed herkend\n",
    "        df = pd.read_csv(r'data\\rates_data_original.csv', \n",
    "                         parse_dates = date_cols, \n",
    "                         dtype ={\"int_basis\":'S10', \"exchange_name\": 'S10'})\n",
    "\n",
    "        \n",
    "    except Exception as e:\n",
    "            print(\"ERROR: Unable to find or access file:\", e)\n",
    "    \n",
    "    return df\n",
    "\n",
    "# Inlezen data\n",
    "df = read_data()\n"
   ]
  },
  {
   "cell_type": "code",
   "execution_count": 6,
   "metadata": {},
   "outputs": [],
   "source": [
    "# Toevoegen van gemiddelde en standaard afwijking \n",
    "\n",
    "keys = ['curve_type','rate_name','rate_type','ccy','time_band']\n",
    "df_gr = df.groupby(keys).agg( {'mid' : ['mean', 'std'] } ) \n",
    "\n",
    "# hernoemen output kolommen\n",
    "df_gr.columns = ['mean', 'std'] \n",
    "\n",
    "# Group by levert een multi index. Deze wordt hier weer plat geslagen\n",
    "df_gr = df_gr.reset_index() \n",
    "\n",
    "# Berekenen aanpassing per rate\n",
    "\n",
    "df_gr['change'] = round(df_gr['std']*(rd.random()-.5),5)\n",
    "\n",
    "# Left join de change over alle data\n",
    "dfi = df.merge(df_gr, on = keys, how = \"left\")\n",
    "\n",
    "# aanpassen van de data\n",
    "dfi['bid'] = dfi['bid']+dfi['change']\n",
    "dfi['offer'] = dfi['bid']+dfi['change']\n",
    "dfi['mid'] = dfi['bid']+dfi['change']\n",
    "\n",
    "# Drop werk kolommen\n",
    "del dfi['change']\n",
    "del dfi['mean']\n",
    "del dfi['std']\n",
    "\n",
    "\n",
    "# Write the changed data to disc\n",
    "dfi.to_csv(r'data\\rates_data.csv',index=False)"
   ]
  }
 ],
 "metadata": {
  "kernelspec": {
   "display_name": "Python 3",
   "language": "python",
   "name": "python3"
  },
  "language_info": {
   "codemirror_mode": {
    "name": "ipython",
    "version": 3
   },
   "file_extension": ".py",
   "mimetype": "text/x-python",
   "name": "python",
   "nbconvert_exporter": "python",
   "pygments_lexer": "ipython3",
   "version": "3.8.3"
  }
 },
 "nbformat": 4,
 "nbformat_minor": 4
}
