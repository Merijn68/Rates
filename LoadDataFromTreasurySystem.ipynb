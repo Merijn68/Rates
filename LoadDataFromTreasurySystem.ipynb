{
 "cells": [
  {
   "cell_type": "markdown",
   "metadata": {},
   "source": [
    "# Load Data\n",
    "\n",
    "Deze routine heb ik gebruikt om de SQL data vanuit het bronsysteem te lezen.\n",
    "Dit leest de ratesdata vanuit Quantum Analytics View naar CSV."
   ]
  },
  {
   "cell_type": "code",
   "execution_count": 1,
   "metadata": {},
   "outputs": [],
   "source": [
    "import pyodbc\n",
    "import pandas as pd"
   ]
  },
  {
   "cell_type": "code",
   "execution_count": 2,
   "metadata": {},
   "outputs": [],
   "source": [
    "# SQL Authentication\n",
    "conn = pyodbc.connect(\n",
    "    'Driver={SQL Server};'\n",
    "    'Server=vfm-sql-prod.verz.local\\SNS, 1433;'\n",
    "    'Database=vfm;'\n",
    "    'UID=snsconnect;'\n",
    "    'PWD=%xxxxx;')"
   ]
  },
  {
   "cell_type": "markdown",
   "metadata": {},
   "source": [
    "Hier lees ik de data in een pandas dataframe. Data is voorbewerkt in SQL. De view snsv_rates_all_r bevat zodoende alle benodigde informatie"
   ]
  },
  {
   "cell_type": "code",
   "execution_count": 3,
   "metadata": {},
   "outputs": [],
   "source": [
    "sql_query = pd.read_sql_query(\n",
    "'''\n",
    "select * \n",
    "from [dbo].[snsv_rates_all_r]\n",
    "where rate_dt >= '1-jan-2020'\n",
    "               ''', conn)\n",
    "\n",
    "df = pd.DataFrame(sql_query)"
   ]
  },
  {
   "cell_type": "code",
   "execution_count": 4,
   "metadata": {},
   "outputs": [],
   "source": [
    "df.to_csv(r'c:\\temp\\temp.csv', index = False, header = True)"
   ]
  }
 ],
 "metadata": {
  "kernelspec": {
   "display_name": "Python 3",
   "language": "python",
   "name": "python3"
  },
  "language_info": {
   "codemirror_mode": {
    "name": "ipython",
    "version": 3
   },
   "file_extension": ".py",
   "mimetype": "text/x-python",
   "name": "python",
   "nbconvert_exporter": "python",
   "pygments_lexer": "ipython3",
   "version": "3.8.3"
  }
 },
 "nbformat": 4,
 "nbformat_minor": 4
}
